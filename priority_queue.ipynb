{
 "cells": [
  {
   "cell_type": "code",
   "execution_count": 14,
   "metadata": {},
   "outputs": [],
   "source": [
    "@value\n",
    "struct Pair(CollectionElement):\n",
    "    var priority: Int\n",
    "    var value: String\n",
    "\n",
    "    fn __str__(self) -> String:\n",
    "        return String(self.priority) + \" - \" +  self.value"
   ]
  },
  {
   "cell_type": "code",
   "execution_count": 21,
   "metadata": {},
   "outputs": [],
   "source": [
    "@value\n",
    "struct DHeap[D: Int]:\n",
    "    var pairs: DynamicVector[Pair]\n",
    "\n",
    "    fn __init__(inout self, owned pairs: DynamicVector[Pair]):\n",
    "        self.pairs = pairs\n",
    "        self._heapify()\n",
    "\n",
    "    fn __init__(inout self, capacity: Int):\n",
    "        self.pairs = DynamicVector[Pair](capacity)\n",
    "\n",
    "    fn _bubble_up(inout self, idx: Int):\n",
    "        var index = idx\n",
    "        let current = self.pairs[index]\n",
    "        \n",
    "        while index > 0:\n",
    "            let parentIndex =  self._get_parent_index(index)\n",
    "            if self.pairs[parentIndex].priority < current.priority:\n",
    "                self.pairs[index] = self.pairs[parentIndex]\n",
    "                index = parentIndex\n",
    "            else:\n",
    "                break\n",
    "        self.pairs[index] = current\n",
    "\n",
    "    fn _get_parent_index(self, index: Int) -> Int:\n",
    "        return (index - 1) // D\n",
    "\n",
    "    fn _push_down(inout self, idx: Int):\n",
    "        var index = idx\n",
    "        let current = self.pairs[index]\n",
    "        while index < self._fist_leaf_index():\n",
    "            let childIndex = self._highest_prioriy_child(index)\n",
    "            if self.pairs[childIndex].priority > current.priority:\n",
    "                self.pairs[index] = self.pairs[childIndex]\n",
    "                index = childIndex\n",
    "            else:\n",
    "                break\n",
    "        self.pairs[index] = current\n",
    "\n",
    "    fn _fist_leaf_index(self) -> Int:\n",
    "        return (self.pairs.size - 2) // D + 1\n",
    "\n",
    "    fn _highest_prioriy_child(self, index: Int) -> Int:\n",
    "        var highest_priority = (index * D) + 1\n",
    "        for i in range(2,D+1):\n",
    "            if self.pairs[i].priority > self.pairs[highest_priority].priority:\n",
    "                highest_priority = i\n",
    "        return highest_priority\n",
    "\n",
    "    fn insert(inout self, element: String, priority: Int):\n",
    "        let p = Pair(priority, element)\n",
    "        self.pairs.append(p)\n",
    "        self._bubble_up(self.pairs.size - 1)\n",
    "\n",
    "    fn top(inout self) raises -> String:\n",
    "        if self.pairs.size == 0:\n",
    "            raise Error(\"empty queue\")\n",
    "        let p = self.pairs.pop_back()\n",
    "        if self.pairs.size == 0:\n",
    "            return p.value\n",
    "        else:\n",
    "           let value = self.pairs[0].value\n",
    "           self.pairs[0] = p\n",
    "           self._push_down(0)\n",
    "           return value\n",
    "\n",
    "    fn _find_index(self, value: String) -> Int:\n",
    "        for i in range(self.pairs.size):\n",
    "            if self.pairs[i].value == value:\n",
    "                return i\n",
    "        return -1\n",
    "\n",
    "    fn update(inout self, old_value: String, new_priority: Int):\n",
    "        let index = self._find_index(old_value)\n",
    "        if index >= 0:\n",
    "            let old_priority = self.pairs[index].priority\n",
    "            self.pairs[index] = Pair(new_priority, old_value)\n",
    "            if new_priority < old_priority:\n",
    "                self._bubble_up(index)\n",
    "            elif new_priority > old_priority:\n",
    "                self._push_down(index)\n",
    "\n",
    "    fn show(self):\n",
    "        for i in range(self.pairs.size):\n",
    "            print(i, self.pairs[i].__str__())\n",
    "    \n",
    "    fn _heapify(inout self):\n",
    "        let n = (self.pairs.size - 1) // D\n",
    "        for i in range(n+1):\n",
    "            self._push_down(n-i)\n"
   ]
  },
  {
   "cell_type": "code",
   "execution_count": 20,
   "metadata": {},
   "outputs": [
    {
     "name": "stdout",
     "output_type": "stream",
     "text": [
      "0 12 - test 4\n",
      "1 10 - test 3\n",
      "2 4 - test 1\n",
      "3 3 - test 2\n",
      "4 7 - test 5\n",
      "test 4\n",
      "0 10 - test 3\n",
      "1 7 - test 5\n",
      "2 4 - test 1\n",
      "3 3 - test 2\n"
     ]
    }
   ],
   "source": [
    "var dheap = DHeap[2](20)\n",
    "\n",
    "dheap.insert(\"test 1\", 4)\n",
    "dheap.insert(\"test 2\", 3)\n",
    "dheap.insert(\"test 3\", 10)\n",
    "dheap.insert(\"test 4\", 12)\n",
    "dheap.insert(\"test 5\", 7)\n",
    "\n",
    "dheap.show()\n",
    "\n",
    "print(dheap.top())\n",
    "\n",
    "dheap.show()"
   ]
  },
  {
   "cell_type": "code",
   "execution_count": 22,
   "metadata": {},
   "outputs": [
    {
     "name": "stdout",
     "output_type": "stream",
     "text": [
      "0 12 - test 4\n",
      "1 10 - test 3\n",
      "2 4 - test 1\n",
      "3 3 - test 2\n",
      "4 7 - test 5\n"
     ]
    }
   ],
   "source": [
    "let elements = DynamicVector[Pair]()\n",
    "elements.append(Pair(4, \"test 1\"))\n",
    "elements.append(Pair(3, \"test 2\"))\n",
    "elements.append(Pair(10, \"test 3\"))\n",
    "elements.append(Pair(12, \"test 4\"))\n",
    "elements.append(Pair(7, \"test 5\"))\n",
    "\n",
    "let dheap = DHeap[2](elements)\n",
    "dheap.show()"
   ]
  },
  {
   "cell_type": "code",
   "execution_count": null,
   "metadata": {},
   "outputs": [],
   "source": []
  }
 ],
 "metadata": {
  "kernelspec": {
   "display_name": "Mojo",
   "language": "mojo",
   "name": "mojo-jupyter-kernel"
  },
  "language_info": {
   "codemirror_mode": {
    "name": "mojo"
   },
   "file_extension": ".mojo",
   "mimetype": "text/x-mojo",
   "name": "mojo"
  }
 },
 "nbformat": 4,
 "nbformat_minor": 2
}
